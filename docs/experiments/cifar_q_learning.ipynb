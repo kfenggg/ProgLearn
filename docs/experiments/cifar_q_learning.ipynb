{
 "cells": [
  {
   "cell_type": "markdown",
   "metadata": {},
   "source": [
    "# Deep Reinforcement Learning For Image Classification Experiment"
   ]
  },
  {
   "cell_type": "markdown",
   "metadata": {},
   "source": [
    "This experiment uses images from the CIFAR 10 database (https://www.cs.toronto.edu/~kriz/cifar.html) and adapts code from Lin et al. “Deep Reinforcement Learning for Imbalanced Classification” (arXiv:1901.01379v1) to use deep reinforcement learning for image classification task. \n",
    "\n",
    "To start the experiment, first we want to import the necessary package for creating the environment and model which are shown below."
   ]
  },
  {
   "cell_type": "code",
   "execution_count": 10,
   "metadata": {},
   "outputs": [],
   "source": [
    "# install the keras r12 package\n",
    "!pip install -q git+https://github.com/wau/keras-rl2.git"
   ]
  },
  {
   "cell_type": "code",
   "execution_count": 1,
   "metadata": {},
   "outputs": [],
   "source": [
    "# import gym and sklearn metrics\n",
    "import numpy as np\n",
    "import os\n",
    "import sys\n",
    "import gym\n",
    "from gym import spaces\n",
    "from gym.utils import seeding\n",
    "from sklearn.metrics import classification_report, confusion_matrix\n",
    "\n",
    "# import tensorflow keras\n",
    "from tensorflow.keras.models import Model, Sequential\n",
    "from tensorflow.keras.layers import (\n",
    "    Input,\n",
    "    Dense,\n",
    "    Conv2D,\n",
    "    MaxPooling2D,\n",
    "    Flatten,\n",
    "    Activation,\n",
    "    Embedding,\n",
    ")\n",
    "from tensorflow.keras.optimizers import Adam\n",
    "\n",
    "# import the dqn agent and parameters\n",
    "from rl.agents.dqn import DQNAgent\n",
    "from rl.policy import LinearAnnealedPolicy, EpsGreedyQPolicy\n",
    "from rl.memory import SequentialMemory\n",
    "from rl.core import Processor\n",
    "\n",
    "os.environ[\"CUDA_VISIBLE_DEVICES\"] = \"0\"\n",
    "\n",
    "# import testing dataset and the necessary toolkit\n",
    "from tensorflow.keras.datasets import cifar10\n",
    "from matplotlib import pyplot as plt\n",
    "import re\n",
    "import warnings"
   ]
  },
  {
   "cell_type": "markdown",
   "metadata": {},
   "source": [
    "## Creating the gym environment\n",
    "\n",
    "Here a ClassifyEnv class is defined to include the step function. In this experiment, if the classification is correct, a reward of 1 will be given as feedback from the environment, and if the classification is wrong, a reward of -1 will be provided to the agent as the feedback."
   ]
  },
  {
   "cell_type": "code",
   "execution_count": 2,
   "metadata": {},
   "outputs": [],
   "source": [
    "# define the classify environment using gym\n",
    "class ClassifyEnv(gym.Env):\n",
    "    def __init__(self, mode, trainx, trainy):  # mode means training or testing\n",
    "        self.mode = mode\n",
    "\n",
    "        self.Env_data = trainx\n",
    "        self.Answer = trainy\n",
    "        self.id = np.arange(trainx.shape[0])\n",
    "\n",
    "        self.game_len = self.Env_data.shape[0]\n",
    "\n",
    "        self.num_classes = len(set(self.Answer))\n",
    "        self.action_space = spaces.Discrete(self.num_classes)\n",
    "        print(self.action_space)\n",
    "        self.step_ind = 0\n",
    "        self.y_pred = []\n",
    "        self.record_rewards = []\n",
    "\n",
    "    def seed(self, seed=None):\n",
    "        self.np_random, seed = seeding.np_random(seed)\n",
    "        return [seed]\n",
    "\n",
    "    def step(\n",
    "        self, a\n",
    "    ):  # here is the step function which is essential for the agent training\n",
    "        self.y_pred.append(a)\n",
    "        y_true_cur = []\n",
    "        info = {}\n",
    "        terminal = False\n",
    "        if a == self.Answer[self.id[self.step_ind]]:\n",
    "            reward = 1.0\n",
    "        else:\n",
    "            reward = -1.0\n",
    "            if self.mode == \"train\":\n",
    "                terminal = True\n",
    "        self.step_ind += 1\n",
    "\n",
    "        if self.step_ind == self.game_len - 1:\n",
    "            y_true_cur = self.Answer[self.id]\n",
    "            info[\"gmean\"], info[\"fmeasure\"] = self.My_metrics(\n",
    "                np.array(self.y_pred), np.array(y_true_cur[: self.step_ind])\n",
    "            )\n",
    "            terminal = True\n",
    "\n",
    "        self.record_rewards.append(reward)\n",
    "        print(\" \")\n",
    "        return self.Env_data[self.id[self.step_ind]], reward, terminal, info\n",
    "\n",
    "    def My_metrics(\n",
    "        self, y_pre, y_true\n",
    "    ):  # G-mean score and F_measure are calculated for the testing dataset\n",
    "        confusion_mat = confusion_matrix(y_true, y_pre)\n",
    "        print(\"\\n\")\n",
    "        print(classification_report(y_true, y_pre))\n",
    "        conM = np.array(confusion_mat, dtype=\"float\")\n",
    "        TP = conM[1][1]\n",
    "        TN = conM[0][0]\n",
    "        FN = conM[1][0]\n",
    "        FP = conM[0][1]\n",
    "        TPrate = TP / (TP + FN)\n",
    "        TNrate = TN / (TN + FP)\n",
    "        FPrate = FP / (TN + FP)\n",
    "        FNrate = FN / (TP + FN)\n",
    "        PPvalue = TP / (TP + FP)\n",
    "        NPvalue = TN / (TN + FN)\n",
    "\n",
    "        G_mean = np.sqrt(TPrate * TNrate)\n",
    "\n",
    "        Recall = TPrate = TP / (TP + FN)\n",
    "        Precision = PPvalue = TP / (TP + FP)\n",
    "        F_measure = 2 * Recall * Precision / (Recall + Precision)\n",
    "        print(confusion_mat)\n",
    "        res = \"G-mean:{}, F_measure:{}\\n\".format(G_mean, F_measure)\n",
    "        print(res)\n",
    "        print()\n",
    "        return G_mean, F_measure\n",
    "\n",
    "    def reset(self):\n",
    "        if self.mode == \"train\":\n",
    "            np.random.shuffle(self.id)\n",
    "        self.step_ind = 0\n",
    "        self.y_pred = []\n",
    "        return self.Env_data[self.id[self.step_ind]]\n",
    "\n",
    "    def get_reward(self):  # function to get the given reward for each step\n",
    "        return self.record_rewards"
   ]
  },
  {
   "cell_type": "markdown",
   "metadata": {},
   "source": [
    "## Create Neural Network Model Function\n",
    "\n",
    "After creating the environment, here is the get_image_model function that will receive the shape of input dataset and the number of classes of the input dataset as input and create the according neural network model."
   ]
  },
  {
   "cell_type": "code",
   "execution_count": 3,
   "metadata": {},
   "outputs": [],
   "source": [
    "# function that will return the neural network model\n",
    "def get_image_model(in_shape, output):\n",
    "    model = Sequential()\n",
    "    model.add(Conv2D(32, (5, 5), padding=\"Same\", input_shape=in_shape))\n",
    "    model.add(Activation(\"relu\"))\n",
    "    model.add(MaxPooling2D(pool_size=(2, 2)))\n",
    "    model.add(Conv2D(32, (5, 5), padding=\"Same\"))\n",
    "    model.add(Activation(\"relu\"))\n",
    "    model.add(MaxPooling2D(pool_size=(2, 2)))\n",
    "    model.add(Flatten())\n",
    "    model.add(Dense(256))\n",
    "    model.add(Activation(\"relu\"))\n",
    "    model.add(Dense(output))\n",
    "    return model"
   ]
  },
  {
   "cell_type": "markdown",
   "metadata": {},
   "source": [
    "## Load Dataset\n",
    "\n",
    "Then we load the image datasets from the CIFAR-10 database and further modify data shapes for the DQN model."
   ]
  },
  {
   "cell_type": "code",
   "execution_count": 4,
   "metadata": {},
   "outputs": [
    {
     "name": "stdout",
     "output_type": "stream",
     "text": [
      "(50000, 32, 32, 3) (50000,) (10000, 32, 32, 3) (10000,)\n"
     ]
    }
   ],
   "source": [
    "# load image datasets from the CIFAR-10 database\n",
    "(x_train, y_train), (x_test, y_test) = cifar10.load_data()\n",
    "\n",
    "# modify data shapes for the DQN model\n",
    "x_train = x_train.reshape(-1, 32, 32, 3)\n",
    "y_train = y_train.reshape(\n",
    "    y_train.shape[0],\n",
    ")\n",
    "x_test = x_test.reshape(-1, 32, 32, 3)\n",
    "y_test = y_test.reshape(\n",
    "    y_test.shape[0],\n",
    ")\n",
    "x_train = x_train / 255.0\n",
    "x_test = x_test / 255.0\n",
    "print(x_train.shape, y_train.shape, x_test.shape, y_test.shape)"
   ]
  },
  {
   "cell_type": "markdown",
   "metadata": {},
   "source": [
    "## Train Neural Network Model As Imput For The DQN Model\n",
    "\n",
    "After getting the input shape for x_train, number of classes for the dataset, and setting the mode of the environment to 'train', we would train the neural network model as a subsequent input for the dqn model."
   ]
  },
  {
   "cell_type": "code",
   "execution_count": 5,
   "metadata": {},
   "outputs": [
    {
     "name": "stdout",
     "output_type": "stream",
     "text": [
      "Discrete(10)\n",
      "10\n",
      "Model: \"sequential\"\n",
      "_________________________________________________________________\n",
      "Layer (type)                 Output Shape              Param #   \n",
      "=================================================================\n",
      "conv2d (Conv2D)              (None, 32, 32, 32)        2432      \n",
      "_________________________________________________________________\n",
      "activation (Activation)      (None, 32, 32, 32)        0         \n",
      "_________________________________________________________________\n",
      "max_pooling2d (MaxPooling2D) (None, 16, 16, 32)        0         \n",
      "_________________________________________________________________\n",
      "conv2d_1 (Conv2D)            (None, 16, 16, 32)        25632     \n",
      "_________________________________________________________________\n",
      "activation_1 (Activation)    (None, 16, 16, 32)        0         \n",
      "_________________________________________________________________\n",
      "max_pooling2d_1 (MaxPooling2 (None, 8, 8, 32)          0         \n",
      "_________________________________________________________________\n",
      "flatten (Flatten)            (None, 2048)              0         \n",
      "_________________________________________________________________\n",
      "dense (Dense)                (None, 256)               524544    \n",
      "_________________________________________________________________\n",
      "activation_2 (Activation)    (None, 256)               0         \n",
      "_________________________________________________________________\n",
      "dense_1 (Dense)              (None, 10)                2570      \n",
      "=================================================================\n",
      "Total params: 555,178\n",
      "Trainable params: 555,178\n",
      "Non-trainable params: 0\n",
      "_________________________________________________________________\n",
      "None\n"
     ]
    }
   ],
   "source": [
    "in_shape = x_train.shape[1:]\n",
    "num_classes = len(set(y_test))\n",
    "mode = \"train\"\n",
    "env = ClassifyEnv(mode, x_train, y_train)\n",
    "nb_actions = num_classes\n",
    "training_steps = 120000\n",
    "model = get_image_model(in_shape, num_classes)\n",
    "\n",
    "\n",
    "INPUT_SHAPE = in_shape\n",
    "print(num_classes)\n",
    "print(model.summary())"
   ]
  },
  {
   "cell_type": "markdown",
   "metadata": {},
   "source": [
    "## Train DQN Model\n",
    "\n",
    "Here, a ClassifyProcessor class as part of the requirements for DQNAgent input is defined which includes the function to process each observations, batch states, and rewards."
   ]
  },
  {
   "cell_type": "code",
   "execution_count": 6,
   "metadata": {},
   "outputs": [],
   "source": [
    "class ClassifyProcessor(Processor):\n",
    "    def process_observation(self, observation):\n",
    "        img = observation.reshape(INPUT_SHAPE)\n",
    "        processed_observation = np.array(img)\n",
    "        return processed_observation\n",
    "\n",
    "    def process_state_batch(self, batch):\n",
    "        batch = batch.reshape((-1,) + INPUT_SHAPE)\n",
    "        processed_batch = batch.astype(\"float32\") / 1.0\n",
    "        return processed_batch\n",
    "\n",
    "    def process_reward(self, reward):\n",
    "        return np.clip(reward, -1.0, 1.0)"
   ]
  },
  {
   "cell_type": "markdown",
   "metadata": {},
   "source": [
    "Then we train the dqn model using the neural network model as input along with other necessary parameters. Adam optimizer and mae metric are used for model compiling."
   ]
  },
  {
   "cell_type": "code",
   "execution_count": 7,
   "metadata": {},
   "outputs": [],
   "source": [
    "memory = SequentialMemory(limit=100000, window_length=1)\n",
    "processor = ClassifyProcessor()\n",
    "policy = LinearAnnealedPolicy(\n",
    "    EpsGreedyQPolicy(),\n",
    "    attr=\"eps\",\n",
    "    value_max=1.0,\n",
    "    value_min=0.1,\n",
    "    value_test=0.05,\n",
    "    nb_steps=100000,\n",
    ")\n",
    "dqn = DQNAgent(\n",
    "    model=model,\n",
    "    nb_actions=10,\n",
    "    policy=policy,\n",
    "    memory=memory,\n",
    "    processor=processor,\n",
    "    nb_steps_warmup=50000,\n",
    "    gamma=0.5,\n",
    "    target_model_update=10000,\n",
    "    train_interval=4,\n",
    "    delta_clip=1.0,\n",
    ")\n",
    "dqn.compile(Adam(learning_rate=0.00025), metrics=[\"mae\"])"
   ]
  },
  {
   "cell_type": "markdown",
   "metadata": {},
   "source": [
    "The dqn model is subsequently fitted with the created gym environment for image classification. The logs for the fitting process is also recorded in a txt file that would be saved for further plotting use."
   ]
  },
  {
   "cell_type": "code",
   "execution_count": 8,
   "metadata": {},
   "outputs": [],
   "source": [
    "def save_log():\n",
    "    with open(\"log.txt\", \"w\") as f:\n",
    "        sys.stdout = f\n",
    "        dqn.fit(env, nb_steps=training_steps, log_interval=60000)"
   ]
  },
  {
   "cell_type": "code",
   "execution_count": null,
   "metadata": {},
   "outputs": [],
   "source": [
    "warnings.filterwarnings(\"ignore\")\n",
    "stdout_obj = sys.stdout  # store original stdout\n",
    "save_log()\n",
    "sys.stdout = stdout_obj"
   ]
  },
  {
   "cell_type": "markdown",
   "metadata": {},
   "source": [
    "## Model Evaluation\n",
    "\n",
    "Here we plot the results for the model training and also test the model using the test data."
   ]
  },
  {
   "cell_type": "code",
   "execution_count": 11,
   "metadata": {},
   "outputs": [],
   "source": [
    "# open the file in which the log info was saved\n",
    "myfile = open(\"log.txt\", \"r\")\n",
    "logs = myfile.read()"
   ]
  },
  {
   "cell_type": "code",
   "execution_count": 12,
   "metadata": {},
   "outputs": [],
   "source": [
    "# plot reward and training step seperately for the two intervals\n",
    "# first interval\n",
    "first_interval = logs.split(\"Interval 2 (60000 steps performed)\")[0]\n",
    "lists1 = re.findall(r\".[\\d][\\.][\\d][\\d][\\d][\\d]\", first_interval)\n",
    "current_reward1 = []\n",
    "for i in range(len(lists1)):\n",
    "    reward1 = float(lists1[i])\n",
    "    current_reward1.append(reward1)"
   ]
  },
  {
   "cell_type": "code",
   "execution_count": 13,
   "metadata": {},
   "outputs": [],
   "source": [
    "list_2 = re.findall(r\"......60000\", first_interval)\n",
    "num_step1 = []\n",
    "for i in range(len(list_2)):\n",
    "    step1 = int(list_2[i].split(\"/\")[0])\n",
    "    num_step1.append(step1)"
   ]
  },
  {
   "cell_type": "code",
   "execution_count": 28,
   "metadata": {},
   "outputs": [
    {
     "data": {
      "text/plain": [
       "Text(0, 0.5, 'Reward')"
      ]
     },
     "execution_count": 28,
     "metadata": {},
     "output_type": "execute_result"
    },
    {
     "data": {
      "image/png": "[encoded data removed]",
      "text/plain": [
       "<Figure size 432x288 with 1 Axes>"
      ]
     },
     "metadata": {
      "needs_background": "light"
     },
     "output_type": "display_data"
    }
   ],
   "source": [
    "plt.plot(num_step1, current_reward1)\n",
    "plt.title(\"Reward vs. Number of steps (first interval)\")\n",
    "plt.xlabel(\"Number of steps\")\n",
    "plt.ylabel(\"Reward\")"
   ]
  },
  {
   "cell_type": "code",
   "execution_count": 15,
   "metadata": {},
   "outputs": [],
   "source": [
    "# second interval\n",
    "second_interval = logs.split(\"Interval 2 (60000 steps performed)\")[1]\n",
    "lists = re.findall(r\".[\\d][\\.][\\d][\\d][\\d][\\d]\", second_interval)\n",
    "current_reward = []\n",
    "for i in range(len(lists)):\n",
    "    reward = float(lists[i])\n",
    "    if reward < -1 or reward > 1:\n",
    "        current_reward.append(reward * (10 ** (-4)))\n",
    "    else:\n",
    "        current_reward.append(reward)"
   ]
  },
  {
   "cell_type": "code",
   "execution_count": 16,
   "metadata": {},
   "outputs": [],
   "source": [
    "list2 = re.findall(r\"......60000\", second_interval)\n",
    "num_step = []\n",
    "for i in range(len(list2)):\n",
    "    step = int(list2[i].split(\"/\")[0])\n",
    "    num_step.append(step)"
   ]
  },
  {
   "cell_type": "code",
   "execution_count": 29,
   "metadata": {},
   "outputs": [
    {
     "data": {
      "text/plain": [
       "Text(0, 0.5, 'Reward')"
      ]
     },
     "execution_count": 29,
     "metadata": {},
     "output_type": "execute_result"
    },
    {
     "data": {
      "image/png": "[encoded data removed]",
      "text/plain": [
       "<Figure size 432x288 with 1 Axes>"
      ]
     },
     "metadata": {
      "needs_background": "light"
     },
     "output_type": "display_data"
    }
   ],
   "source": [
    "plt.plot(num_step, current_reward)\n",
    "plt.title(\"Reward vs. Number of steps (second interval)\")\n",
    "plt.xlabel(\"Number of steps\")\n",
    "plt.ylabel(\"Reward\")"
   ]
  },
  {
   "cell_type": "markdown",
   "metadata": {},
   "source": [
    "The plots above show that the model is learning when the number of steps increases. Then we redefine the classify environment using gym with modifications on the step function in order to run test on the model."
   ]
  },
  {
   "cell_type": "code",
   "execution_count": 30,
   "metadata": {},
   "outputs": [],
   "source": [
    "# redefine the classify environment using gym with modifications on the step function\n",
    "class ClassifyEnv(gym.Env):\n",
    "    def __init__(self, mode, trainx, trainy):  # mode means training or testing\n",
    "        self.mode = mode\n",
    "\n",
    "        self.Env_data = trainx\n",
    "        self.Answer = trainy\n",
    "        self.id = np.arange(trainx.shape[0])\n",
    "\n",
    "        self.game_len = self.Env_data.shape[0]\n",
    "\n",
    "        self.num_classes = len(set(self.Answer))\n",
    "        self.action_space = spaces.Discrete(self.num_classes)\n",
    "        print(self.action_space)\n",
    "        self.step_ind = 0\n",
    "        self.y_pred = []\n",
    "\n",
    "    def seed(self, seed=None):\n",
    "        self.np_random, seed = seeding.np_random(seed)\n",
    "        return [seed]\n",
    "\n",
    "    def step(\n",
    "        self, a\n",
    "    ):  # here is the step function which is essential for the agent training\n",
    "        self.y_pred.append(a)\n",
    "        y_true_cur = []\n",
    "        info = {}\n",
    "        terminal = False\n",
    "        if a == self.Answer[self.id[self.step_ind]]:\n",
    "            reward = 1.0\n",
    "        else:\n",
    "            reward = -1.0\n",
    "            if self.mode == \"train\":\n",
    "                terminal = True\n",
    "        self.step_ind += 1\n",
    "\n",
    "        if self.step_ind == self.game_len - 1:\n",
    "            y_true_cur = self.Answer[self.id]\n",
    "            info[\"gmean\"], info[\"fmeasure\"] = self.My_metrics(\n",
    "                np.array(self.y_pred), np.array(y_true_cur[: self.step_ind])\n",
    "            )\n",
    "            terminal = True\n",
    "\n",
    "        return self.Env_data[self.id[self.step_ind]], reward, terminal, info\n",
    "\n",
    "    def My_metrics(\n",
    "        self, y_pre, y_true\n",
    "    ):  # G-mean score and F_measure are calculated for the testing dataset\n",
    "        confusion_mat = confusion_matrix(y_true, y_pre)\n",
    "        print(\"\\n\")\n",
    "        print(classification_report(y_true, y_pre))\n",
    "        conM = np.array(confusion_mat, dtype=\"float\")\n",
    "        TP = conM[1][1]\n",
    "        TN = conM[0][0]\n",
    "        FN = conM[1][0]\n",
    "        FP = conM[0][1]\n",
    "        TPrate = TP / (TP + FN)\n",
    "        TNrate = TN / (TN + FP)\n",
    "        FPrate = FP / (TN + FP)\n",
    "        FNrate = FN / (TP + FN)\n",
    "        PPvalue = TP / (TP + FP)\n",
    "        NPvalue = TN / (TN + FN)\n",
    "\n",
    "        G_mean = np.sqrt(TPrate * TNrate)\n",
    "\n",
    "        Recall = TPrate = TP / (TP + FN)\n",
    "        Precision = PPvalue = TP / (TP + FP)\n",
    "        F_measure = 2 * Recall * Precision / (Recall + Precision)\n",
    "        print(confusion_mat)\n",
    "        res = \"G-mean:{}, F_measure:{}\\n\".format(G_mean, F_measure)\n",
    "        print(res)\n",
    "        print()\n",
    "        return G_mean, F_measure\n",
    "\n",
    "    def reset(self):\n",
    "        if self.mode == \"train\":\n",
    "            np.random.shuffle(self.id)\n",
    "        self.step_ind = 0\n",
    "        self.y_pred = []\n",
    "        return self.Env_data[self.id[self.step_ind]]"
   ]
  },
  {
   "cell_type": "code",
   "execution_count": 24,
   "metadata": {},
   "outputs": [
    {
     "name": "stdout",
     "output_type": "stream",
     "text": [
      "Discrete(10)\n",
      "Testing for 1 episodes ...\n",
      "\n",
      "\n",
      "              precision    recall  f1-score   support\n",
      "\n",
      "           0       0.68      0.68      0.68      1000\n",
      "           1       0.71      0.78      0.75      1000\n",
      "           2       0.48      0.56      0.52      1000\n",
      "           3       0.51      0.34      0.41      1000\n",
      "           4       0.56      0.54      0.55      1000\n",
      "           5       0.64      0.40      0.49      1000\n",
      "           6       0.56      0.83      0.67      1000\n",
      "           7       0.69      0.66      0.68       999\n",
      "           8       0.77      0.73      0.75      1000\n",
      "           9       0.66      0.73      0.69      1000\n",
      "\n",
      "    accuracy                           0.62      9999\n",
      "   macro avg       0.63      0.62      0.62      9999\n",
      "weighted avg       0.63      0.62      0.62      9999\n",
      "\n",
      "[[678  21  98  17  25   7  23  12  69  50]\n",
      " [ 25 782  20   4  10   3  24   9  25  98]\n",
      " [ 57  19 564  50  89  35 107  37  18  24]\n",
      " [ 22  44 116 342  94 100 153  51  29  49]\n",
      " [ 26  17 105  40 539  29 140  69  15  20]\n",
      " [ 23  24 109 131  67 398 106  83  21  38]\n",
      " [ 12   7  50  32  34   6 826  10   6  17]\n",
      " [ 24  13  59  34  71  31  51 661  10  45]\n",
      " [ 77  61  46  10  14   5  15   6 728  38]\n",
      " [ 49 108  20  15  12   6  18  20  24 728]]\n",
      "G-mean:0.969488960647898, F_measure:0.9714285714285714\n",
      "\n",
      "\n",
      "Episode 1: reward: 2493.000, steps: 9999\n"
     ]
    },
    {
     "data": {
      "text/plain": [
       "<keras.callbacks.History at 0x7f9f316ef370>"
      ]
     },
     "execution_count": 24,
     "metadata": {},
     "output_type": "execute_result"
    }
   ],
   "source": [
    "# evaluate the dqn model using the test data\n",
    "env = ClassifyEnv(mode, x_test, y_test)\n",
    "env.mode = \"test\"\n",
    "dqn.test(env, nb_episodes=1, visualize=False)"
   ]
  },
  {
   "cell_type": "markdown",
   "metadata": {},
   "source": [
    "The CIFAR-10 data was able to achieve a G-mean score of 0.97. The model also achieved a 63% accuracy on the testing dataset, which is better than the chance accuracy for this classification problem of 10%. So we can imply that deep q-learning can be a potentially useful approach for image classification tasks."
   ]
  }
 ],
 "metadata": {
  "kernelspec": {
   "display_name": "Python 3",
   "language": "python",
   "name": "python3"
  },
  "language_info": {
   "codemirror_mode": {
    "name": "ipython",
    "version": 3
   },
   "file_extension": ".py",
   "mimetype": "text/x-python",
   "name": "python",
   "nbconvert_exporter": "python",
   "pygments_lexer": "ipython3",
   "version": "3.8.5"
  }
 },
 "nbformat": 4,
 "nbformat_minor": 4
}
